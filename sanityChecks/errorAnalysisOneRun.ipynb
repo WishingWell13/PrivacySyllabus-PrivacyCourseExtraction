{
 "cells": [
  {
   "cell_type": "markdown",
   "metadata": {},
   "source": [
    "Original notebook: https://colab.research.google.com/drive/1iomGvGlYzvNHhTlGcFbOD1wwpZr5HT89?usp=sharing\n",
    "\n",
    "Below is not a direct copy, but a version adapted to work without Google Drive mounting / colab and for **one** run of the `downloadHop1Links.py`. This notebook is not meant to compare files."
   ]
  },
  {
   "cell_type": "code",
   "execution_count": 25,
   "metadata": {},
   "outputs": [
    {
     "data": {
      "text/html": [
       "<div>\n",
       "<style scoped>\n",
       "    .dataframe tbody tr th:only-of-type {\n",
       "        vertical-align: middle;\n",
       "    }\n",
       "\n",
       "    .dataframe tbody tr th {\n",
       "        vertical-align: top;\n",
       "    }\n",
       "\n",
       "    .dataframe thead th {\n",
       "        text-align: right;\n",
       "    }\n",
       "</style>\n",
       "<table border=\"1\" class=\"dataframe\">\n",
       "  <thead>\n",
       "    <tr style=\"text-align: right;\">\n",
       "      <th></th>\n",
       "      <th>name</th>\n",
       "      <th>link</th>\n",
       "      <th>error</th>\n",
       "    </tr>\n",
       "  </thead>\n",
       "  <tbody>\n",
       "    <tr>\n",
       "      <th>0</th>\n",
       "      <td>River Parishes Community College</td>\n",
       "      <td>https://www.rpcc.edu/#main</td>\n",
       "      <td>HTTP Error 403: Forbidden</td>\n",
       "    </tr>\n",
       "    <tr>\n",
       "      <th>1</th>\n",
       "      <td>River Parishes Community College</td>\n",
       "      <td>https://www.rpcc.edu/</td>\n",
       "      <td>HTTP Error 403: Forbidden</td>\n",
       "    </tr>\n",
       "    <tr>\n",
       "      <th>2</th>\n",
       "      <td>River Parishes Community College</td>\n",
       "      <td>https://www.rpcc.edu/#</td>\n",
       "      <td>HTTP Error 403: Forbidden</td>\n",
       "    </tr>\n",
       "  </tbody>\n",
       "</table>\n",
       "</div>"
      ],
      "text/plain": [
       "                               name                        link  \\\n",
       "0  River Parishes Community College  https://www.rpcc.edu/#main   \n",
       "1  River Parishes Community College       https://www.rpcc.edu/   \n",
       "2  River Parishes Community College      https://www.rpcc.edu/#   \n",
       "\n",
       "                       error  \n",
       "0  HTTP Error 403: Forbidden  \n",
       "1  HTTP Error 403: Forbidden  \n",
       "2  HTTP Error 403: Forbidden  "
      ]
     },
     "execution_count": 25,
     "metadata": {},
     "output_type": "execute_result"
    }
   ],
   "source": [
    "import pandas as pd\n",
    "import json\n",
    "import ast\n",
    "\n",
    "errorFileName = 'generalErrorUniversities-2024-07-22-03' # Should NOT contain file extension, used elsewhere in the code to create new files\n",
    "storeLocation = './helperFiles/errorAnalysisOneRun/'\n",
    "\n",
    "dfError = pd.read_csv(f'../errorLoggingOneHop/localRun/{errorFileName}.csv')\n",
    "\n",
    "dfError.head(3)"
   ]
  },
  {
   "cell_type": "code",
   "execution_count": 26,
   "metadata": {},
   "outputs": [
    {
     "name": "stdout",
     "output_type": "stream",
     "text": [
      "<class 'pandas.core.frame.DataFrame'>\n",
      "RangeIndex: 124308 entries, 0 to 124307\n",
      "Data columns (total 3 columns):\n",
      " #   Column  Non-Null Count   Dtype \n",
      "---  ------  --------------   ----- \n",
      " 0   name    124308 non-null  object\n",
      " 1   link    124308 non-null  object\n",
      " 2   error   124240 non-null  object\n",
      "dtypes: object(3)\n",
      "memory usage: 2.8+ MB\n"
     ]
    }
   ],
   "source": [
    "dfError.info()"
   ]
  },
  {
   "cell_type": "code",
   "execution_count": 27,
   "metadata": {},
   "outputs": [
    {
     "data": {
      "text/html": [
       "<div>\n",
       "<style scoped>\n",
       "    .dataframe tbody tr th:only-of-type {\n",
       "        vertical-align: middle;\n",
       "    }\n",
       "\n",
       "    .dataframe tbody tr th {\n",
       "        vertical-align: top;\n",
       "    }\n",
       "\n",
       "    .dataframe thead th {\n",
       "        text-align: right;\n",
       "    }\n",
       "</style>\n",
       "<table border=\"1\" class=\"dataframe\">\n",
       "  <thead>\n",
       "    <tr style=\"text-align: right;\">\n",
       "      <th></th>\n",
       "      <th>name</th>\n",
       "      <th>link</th>\n",
       "      <th>error</th>\n",
       "    </tr>\n",
       "  </thead>\n",
       "  <tbody>\n",
       "    <tr>\n",
       "      <th>0</th>\n",
       "      <td>River Parishes Community College</td>\n",
       "      <td>https://www.rpcc.edu/#main</td>\n",
       "      <td>HTTP Error 403: Forbidden</td>\n",
       "    </tr>\n",
       "    <tr>\n",
       "      <th>1</th>\n",
       "      <td>River Parishes Community College</td>\n",
       "      <td>https://www.rpcc.edu/</td>\n",
       "      <td>HTTP Error 403: Forbidden</td>\n",
       "    </tr>\n",
       "    <tr>\n",
       "      <th>2</th>\n",
       "      <td>River Parishes Community College</td>\n",
       "      <td>https://www.rpcc.edu/#</td>\n",
       "      <td>HTTP Error 403: Forbidden</td>\n",
       "    </tr>\n",
       "    <tr>\n",
       "      <th>3</th>\n",
       "      <td>River Parishes Community College</td>\n",
       "      <td>https://www.rpcc.edu/about-us</td>\n",
       "      <td>HTTP Error 403: Forbidden</td>\n",
       "    </tr>\n",
       "    <tr>\n",
       "      <th>4</th>\n",
       "      <td>River Parishes Community College</td>\n",
       "      <td>https://www.rpcc.edu/campuses/index</td>\n",
       "      <td>HTTP Error 403: Forbidden</td>\n",
       "    </tr>\n",
       "  </tbody>\n",
       "</table>\n",
       "</div>"
      ],
      "text/plain": [
       "                               name                                 link  \\\n",
       "0  River Parishes Community College           https://www.rpcc.edu/#main   \n",
       "1  River Parishes Community College                https://www.rpcc.edu/   \n",
       "2  River Parishes Community College               https://www.rpcc.edu/#   \n",
       "3  River Parishes Community College        https://www.rpcc.edu/about-us   \n",
       "4  River Parishes Community College  https://www.rpcc.edu/campuses/index   \n",
       "\n",
       "                       error  \n",
       "0  HTTP Error 403: Forbidden  \n",
       "1  HTTP Error 403: Forbidden  \n",
       "2  HTTP Error 403: Forbidden  \n",
       "3  HTTP Error 403: Forbidden  \n",
       "4  HTTP Error 403: Forbidden  "
      ]
     },
     "execution_count": 27,
     "metadata": {},
     "output_type": "execute_result"
    }
   ],
   "source": [
    "dfError.head()"
   ]
  },
  {
   "cell_type": "code",
   "execution_count": 28,
   "metadata": {},
   "outputs": [
    {
     "data": {
      "text/plain": [
       "HTTP Error 403: Forbidden                                                                                                                 75278\n",
       "HTTP Error 404: Not Found                                                                                                                 14136\n",
       "[SSL: CERTIFICATE_VERIFY_FAILED] certificate verify failed: unable to get local issuer certificate (_ssl.c:1129)                           8584\n",
       "HTTP Error 400: Bad Request                                                                                                                4776\n",
       "'utf-8' codec can't decode byte 0xe2 in position 10: invalid continuation byte                                                             3990\n",
       "HTTP Error 405: Not Allowed                                                                                                                2326\n",
       "HTTP Error 429: Too Many Requests                                                                                                          1624\n",
       "[Errno 8] nodename nor servname provided, or not known                                                                                     1352\n",
       "'utf-8' codec can't decode byte 0xb5 in position 11: invalid start byte                                                                    1260\n",
       "HTTP Error 999: Request denied                                                                                                             1238\n",
       "HTTP Error 406: Not Acceptable                                                                                                             1130\n",
       "[Errno 60] Operation timed out                                                                                                              614\n",
       "HTTP Error 410: Gone                                                                                                                        461\n",
       "'utf-8' codec can't decode byte 0xaa in position 10: invalid start byte                                                                     417\n",
       "Remote end closed connection without response                                                                                               318\n",
       "HTTP Error 500: Internal Server Error                                                                                                       308\n",
       "'utf-8' codec can't decode byte 0xc4 in position 10: invalid continuation byte                                                              215\n",
       "[Errno 54] Connection reset by peer                                                                                                         199\n",
       "HTTP Error 401: Unauthorized                                                                                                                162\n",
       "HTTP Error 302: The HTTP server returned a redirect error that would lead to an infinite loop.\\nThe last 30x error message was:\\nFound      162\n",
       "Name: error, dtype: int64"
      ]
     },
     "execution_count": 28,
     "metadata": {},
     "output_type": "execute_result"
    }
   ],
   "source": [
    "dfError.error.value_counts()[0:20]"
   ]
  },
  {
   "cell_type": "code",
   "execution_count": 29,
   "metadata": {},
   "outputs": [
    {
     "data": {
      "text/plain": [
       "HTTP Error 403: Forbidden                                                                                           75278\n",
       "HTTP Error 404: Not Found                                                                                           14136\n",
       "[SSL: CERTIFICATE_VERIFY_FAILED] certificate verify failed: unable to get local issuer certificate (_ssl.c:1129)     8584\n",
       "HTTP Error 400: Bad Request                                                                                          4776\n",
       "'utf-8' codec can't decode byte 0xe2 in position 10: invalid continuation byte                                       3990\n",
       "                                                                                                                    ...  \n",
       "URL can't contain control characters. '/downloads/registrar/course list/Past/FA16.pdf' (found at least ' ')             1\n",
       "'utf-8' codec can't decode byte 0xc2 in position 4: invalid continuation byte                                           1\n",
       "'utf-8' codec can't decode byte 0x94 in position 5: invalid start byte                                                  1\n",
       "'utf-8' codec can't decode byte 0x9e in position 4: invalid start byte                                                  1\n",
       "URL can't contain control characters. '/ ' (found at least ' ')                                                         1\n",
       "Name: error, Length: 2245, dtype: int64"
      ]
     },
     "execution_count": 29,
     "metadata": {},
     "output_type": "execute_result"
    }
   ],
   "source": [
    "dfError.error.value_counts()"
   ]
  },
  {
   "cell_type": "code",
   "execution_count": 30,
   "metadata": {},
   "outputs": [
    {
     "data": {
      "text/html": [
       "<div>\n",
       "<style scoped>\n",
       "    .dataframe tbody tr th:only-of-type {\n",
       "        vertical-align: middle;\n",
       "    }\n",
       "\n",
       "    .dataframe tbody tr th {\n",
       "        vertical-align: top;\n",
       "    }\n",
       "\n",
       "    .dataframe thead th {\n",
       "        text-align: right;\n",
       "    }\n",
       "</style>\n",
       "<table border=\"1\" class=\"dataframe\">\n",
       "  <thead>\n",
       "    <tr style=\"text-align: right;\">\n",
       "      <th></th>\n",
       "      <th>name</th>\n",
       "      <th>link</th>\n",
       "      <th>error</th>\n",
       "    </tr>\n",
       "  </thead>\n",
       "  <tbody>\n",
       "    <tr>\n",
       "      <th>0</th>\n",
       "      <td>River Parishes Community College</td>\n",
       "      <td>https://www.rpcc.edu/#main</td>\n",
       "      <td>HTTP Error 403: Forbidden</td>\n",
       "    </tr>\n",
       "    <tr>\n",
       "      <th>14</th>\n",
       "      <td>Lower Columbia College</td>\n",
       "      <td>https://services4.lowercolumbia.edu/employees/</td>\n",
       "      <td>[SSL: CERTIFICATE_VERIFY_FAILED] certificate v...</td>\n",
       "    </tr>\n",
       "    <tr>\n",
       "      <th>16</th>\n",
       "      <td>Bryant &amp; Stratton College-Albany</td>\n",
       "      <td>https://www.bryantstratton.edu/student-experie...</td>\n",
       "      <td>HTTP Error 403: Forbidden</td>\n",
       "    </tr>\n",
       "    <tr>\n",
       "      <th>17</th>\n",
       "      <td>Princeton University</td>\n",
       "      <td>https://www.princeton.edu</td>\n",
       "      <td>HTTP Error 403: Forbidden</td>\n",
       "    </tr>\n",
       "    <tr>\n",
       "      <th>60</th>\n",
       "      <td>Great Basin College</td>\n",
       "      <td>https://www.gbcnv.edu/javascript:void(0)</td>\n",
       "      <td>HTTP Error 404: Not Found</td>\n",
       "    </tr>\n",
       "  </tbody>\n",
       "</table>\n",
       "</div>"
      ],
      "text/plain": [
       "                                name  \\\n",
       "0   River Parishes Community College   \n",
       "14            Lower Columbia College   \n",
       "16  Bryant & Stratton College-Albany   \n",
       "17              Princeton University   \n",
       "60               Great Basin College   \n",
       "\n",
       "                                                 link  \\\n",
       "0                          https://www.rpcc.edu/#main   \n",
       "14     https://services4.lowercolumbia.edu/employees/   \n",
       "16  https://www.bryantstratton.edu/student-experie...   \n",
       "17                          https://www.princeton.edu   \n",
       "60           https://www.gbcnv.edu/javascript:void(0)   \n",
       "\n",
       "                                                error  \n",
       "0                           HTTP Error 403: Forbidden  \n",
       "14  [SSL: CERTIFICATE_VERIFY_FAILED] certificate v...  \n",
       "16                          HTTP Error 403: Forbidden  \n",
       "17                          HTTP Error 403: Forbidden  \n",
       "60                          HTTP Error 404: Not Found  "
      ]
     },
     "execution_count": 30,
     "metadata": {},
     "output_type": "execute_result"
    }
   ],
   "source": [
    "filterColumns = ['name', 'error']\n",
    "dfFiltered = dfError.drop_duplicates(subset = filterColumns)\n",
    "dfFiltered.to_csv(f'{storeLocation}{errorFileName}--Filtered.csv', index=False)\n",
    "dfFiltered.head()"
   ]
  },
  {
   "cell_type": "code",
   "execution_count": 31,
   "metadata": {},
   "outputs": [
    {
     "data": {
      "text/html": [
       "<div>\n",
       "<style scoped>\n",
       "    .dataframe tbody tr th:only-of-type {\n",
       "        vertical-align: middle;\n",
       "    }\n",
       "\n",
       "    .dataframe tbody tr th {\n",
       "        vertical-align: top;\n",
       "    }\n",
       "\n",
       "    .dataframe thead th {\n",
       "        text-align: right;\n",
       "    }\n",
       "</style>\n",
       "<table border=\"1\" class=\"dataframe\">\n",
       "  <thead>\n",
       "    <tr style=\"text-align: right;\">\n",
       "      <th></th>\n",
       "      <th>error</th>\n",
       "      <th>frequency (percentage)</th>\n",
       "    </tr>\n",
       "  </thead>\n",
       "  <tbody>\n",
       "    <tr>\n",
       "      <th>0</th>\n",
       "      <td>HTTP Error 404: Not Found</td>\n",
       "      <td>15.443012</td>\n",
       "    </tr>\n",
       "    <tr>\n",
       "      <th>1</th>\n",
       "      <td>HTTP Error 403: Forbidden</td>\n",
       "      <td>15.141431</td>\n",
       "    </tr>\n",
       "    <tr>\n",
       "      <th>2</th>\n",
       "      <td>HTTP Error 999: Request denied</td>\n",
       "      <td>10.700915</td>\n",
       "    </tr>\n",
       "    <tr>\n",
       "      <th>3</th>\n",
       "      <td>'utf-8' codec can't decode byte 0xe2 in positi...</td>\n",
       "      <td>5.043677</td>\n",
       "    </tr>\n",
       "    <tr>\n",
       "      <th>4</th>\n",
       "      <td>HTTP Error 429: Too Many Requests</td>\n",
       "      <td>3.161398</td>\n",
       "    </tr>\n",
       "  </tbody>\n",
       "</table>\n",
       "</div>"
      ],
      "text/plain": [
       "                                               error  frequency (percentage)\n",
       "0                          HTTP Error 404: Not Found               15.443012\n",
       "1                          HTTP Error 403: Forbidden               15.141431\n",
       "2                     HTTP Error 999: Request denied               10.700915\n",
       "3  'utf-8' codec can't decode byte 0xe2 in positi...                5.043677\n",
       "4                  HTTP Error 429: Too Many Requests                3.161398"
      ]
     },
     "execution_count": 31,
     "metadata": {},
     "output_type": "execute_result"
    }
   ],
   "source": [
    "# Convert value counts / frequency counts to percentages\n",
    "\n",
    "dfFilt_2 = pd.read_csv(f'{storeLocation}{errorFileName}--Filtered.csv')\n",
    "totalRows = len(dfFilt_2)\n",
    "totalNumPerValue = dfFilt_2['error'].value_counts()\n",
    "percent = (totalNumPerValue / totalRows) * 100\n",
    "\n",
    "dfPercent = percent.reset_index()\n",
    "dfPercent.columns = ['error', 'frequency (percentage)']\n",
    "dfPercent['frequency (percentage)'] = dfPercent['frequency (percentage)'].round(6)\n",
    "\n",
    "dfPercent.to_csv(f'{storeLocation}{errorFileName}--Filtered--Percent--Rounded.csv', index=False)\n",
    "dfPercent.head(5)"
   ]
  },
  {
   "cell_type": "code",
   "execution_count": 32,
   "metadata": {},
   "outputs": [
    {
     "data": {
      "text/html": [
       "<div>\n",
       "<style scoped>\n",
       "    .dataframe tbody tr th:only-of-type {\n",
       "        vertical-align: middle;\n",
       "    }\n",
       "\n",
       "    .dataframe tbody tr th {\n",
       "        vertical-align: top;\n",
       "    }\n",
       "\n",
       "    .dataframe thead th {\n",
       "        text-align: right;\n",
       "    }\n",
       "</style>\n",
       "<table border=\"1\" class=\"dataframe\">\n",
       "  <thead>\n",
       "    <tr style=\"text-align: right;\">\n",
       "      <th></th>\n",
       "      <th>name</th>\n",
       "      <th>error</th>\n",
       "    </tr>\n",
       "  </thead>\n",
       "  <tbody>\n",
       "    <tr>\n",
       "      <th>0</th>\n",
       "      <td>Aaniiih Nakoda College</td>\n",
       "      <td>'utf-8' codec can't decode byte 0xe2 in positi...</td>\n",
       "    </tr>\n",
       "    <tr>\n",
       "      <th>1</th>\n",
       "      <td>Abilene Christian University</td>\n",
       "      <td>HTTP Error 403: Forbidden,HTTP Error 404: Not ...</td>\n",
       "    </tr>\n",
       "    <tr>\n",
       "      <th>2</th>\n",
       "      <td>Abraham Baldwin Agricultural College</td>\n",
       "      <td>HTTP Error 405: Not Allowed,HTTP Error 429: To...</td>\n",
       "    </tr>\n",
       "    <tr>\n",
       "      <th>3</th>\n",
       "      <td>Abraham Lincoln University</td>\n",
       "      <td>HTTP Error 404: Not Found,'utf-8' codec can't ...</td>\n",
       "    </tr>\n",
       "    <tr>\n",
       "      <th>4</th>\n",
       "      <td>Academy College</td>\n",
       "      <td>HTTP Error 403: Forbidden,HTTP Error 404: Not ...</td>\n",
       "    </tr>\n",
       "  </tbody>\n",
       "</table>\n",
       "</div>"
      ],
      "text/plain": [
       "                                   name  \\\n",
       "0                Aaniiih Nakoda College   \n",
       "1          Abilene Christian University   \n",
       "2  Abraham Baldwin Agricultural College   \n",
       "3            Abraham Lincoln University   \n",
       "4                       Academy College   \n",
       "\n",
       "                                               error  \n",
       "0  'utf-8' codec can't decode byte 0xe2 in positi...  \n",
       "1  HTTP Error 403: Forbidden,HTTP Error 404: Not ...  \n",
       "2  HTTP Error 405: Not Allowed,HTTP Error 429: To...  \n",
       "3  HTTP Error 404: Not Found,'utf-8' codec can't ...  \n",
       "4  HTTP Error 403: Forbidden,HTTP Error 404: Not ...  "
      ]
     },
     "execution_count": 32,
     "metadata": {},
     "output_type": "execute_result"
    }
   ],
   "source": [
    "# Lists all errors for each university with multiple errors\n",
    "repeatedUniversities = dfFilt_2['name'][dfFilt_2['name'].duplicated(keep=False)]\n",
    "dfUni_1 = dfFilt_2[dfFilt_2['name'].isin(repeatedUniversities)]\n",
    "dfUni_Final = dfUni_1.groupby('name').agg({'error': lambda x: ','.join(x.astype(str))}).reset_index()\n",
    "\n",
    "dfUni_Final.to_csv(f'{storeLocation}{errorFileName}--Filtered--Universities--Multiple_Errors.csv', index=False)\n",
    "dfUni_Final.head()"
   ]
  },
  {
   "cell_type": "code",
   "execution_count": 33,
   "metadata": {},
   "outputs": [
    {
     "name": "stdout",
     "output_type": "stream",
     "text": [
      "15.016638935108153\n"
     ]
    }
   ],
   "source": [
    "# Group utf-8 errors\n",
    "\n",
    "# parse dfFilt_2\n",
    "# or actually parse dfPercent and group utfs\n",
    "column_length = len(dfFilt_2)\n",
    "utfValues = dfFilt_2['error'].str.startswith('\\'utf-8\\'')\n",
    "totalUTF = utfValues.sum()\n",
    "\n",
    "percent = (totalUTF / totalRows) * 100\n",
    "# percent = percent.round(6)\n",
    "print(percent)\n",
    "\n",
    "dfUTF = dfPercent\n",
    "utfPercentRow = {'error': 'totalUTF', 'frequency (percentage)': percent}\n",
    "utf_temp_df = pd.DataFrame([utfPercentRow])\n",
    "dfUTF = pd.concat([dfUTF, utf_temp_df], ignore_index = True)\n",
    "dfUTF.to_csv(f'{storeLocation}{errorFileName}--Filtered--Percent--UTF_Total.csv', index=False)"
   ]
  },
  {
   "cell_type": "code",
   "execution_count": 34,
   "metadata": {},
   "outputs": [
    {
     "name": "stdout",
     "output_type": "stream",
     "text": [
      "16.618136439267886\n"
     ]
    }
   ],
   "source": [
    "# Group URL can't contain errors\n",
    "\n",
    "# parse dfFilt_2\n",
    "# or actually parse dfPercent and group utfs\n",
    "column_length = len(dfFilt_2)\n",
    "controlValues = dfFilt_2['error'].str.startswith('URL can\\'t contain control characters')\n",
    "totalControlUTF = controlValues.sum()\n",
    "\n",
    "controlPercent = (totalControlUTF / totalRows) * 100\n",
    "# controlPercent = controlPercent.round(6)\n",
    "print(controlPercent)"
   ]
  },
  {
   "cell_type": "code",
   "execution_count": 35,
   "metadata": {},
   "outputs": [
    {
     "data": {
      "text/html": [
       "<div>\n",
       "<style scoped>\n",
       "    .dataframe tbody tr th:only-of-type {\n",
       "        vertical-align: middle;\n",
       "    }\n",
       "\n",
       "    .dataframe tbody tr th {\n",
       "        vertical-align: top;\n",
       "    }\n",
       "\n",
       "    .dataframe thead th {\n",
       "        text-align: right;\n",
       "    }\n",
       "</style>\n",
       "<table border=\"1\" class=\"dataframe\">\n",
       "  <thead>\n",
       "    <tr style=\"text-align: right;\">\n",
       "      <th></th>\n",
       "      <th>error</th>\n",
       "      <th>frequency (percentage)</th>\n",
       "    </tr>\n",
       "  </thead>\n",
       "  <tbody>\n",
       "    <tr>\n",
       "      <th>1</th>\n",
       "      <td>GROUPED URL can't contain control characters</td>\n",
       "      <td>16.618136</td>\n",
       "    </tr>\n",
       "    <tr>\n",
       "      <th>2</th>\n",
       "      <td>HTTP Error 404: Not Found</td>\n",
       "      <td>15.443012</td>\n",
       "    </tr>\n",
       "    <tr>\n",
       "      <th>3</th>\n",
       "      <td>HTTP Error 403: Forbidden</td>\n",
       "      <td>15.141431</td>\n",
       "    </tr>\n",
       "    <tr>\n",
       "      <th>0</th>\n",
       "      <td>GROUPED 'utf-8' codec can't decode byte</td>\n",
       "      <td>15.016639</td>\n",
       "    </tr>\n",
       "    <tr>\n",
       "      <th>4</th>\n",
       "      <td>HTTP Error 999: Request denied</td>\n",
       "      <td>10.700915</td>\n",
       "    </tr>\n",
       "  </tbody>\n",
       "</table>\n",
       "</div>"
      ],
      "text/plain": [
       "                                          error  frequency (percentage)\n",
       "1  GROUPED URL can't contain control characters               16.618136\n",
       "2                     HTTP Error 404: Not Found               15.443012\n",
       "3                     HTTP Error 403: Forbidden               15.141431\n",
       "0       GROUPED 'utf-8' codec can't decode byte               15.016639\n",
       "4                HTTP Error 999: Request denied               10.700915"
      ]
     },
     "execution_count": 35,
     "metadata": {},
     "output_type": "execute_result"
    }
   ],
   "source": [
    "dfGrouped = dfPercent[~dfPercent.error.str.contains(\"utf-8\")].reset_index(drop=True)\n",
    "dfGrouped = dfGrouped[~dfGrouped.error.str.contains(\"URL can\\'t contain control characters\")].reset_index(drop=True)\n",
    "\n",
    "dfExtra = pd.DataFrame([{'error':\"GROUPED 'utf-8' codec can't decode byte\", 'frequency (percentage)': percent}, {'error':\"GROUPED URL can\\'t contain control characters\", 'frequency (percentage)': controlPercent}])\n",
    "\n",
    "dfAllGrouped = pd.concat([dfExtra, dfGrouped], ignore_index=True)\n",
    "\n",
    "dfAllGrouped = dfAllGrouped.sort_values(by=['frequency (percentage)'], ascending=False)\n",
    "\n",
    "dfAllGrouped.head(5)\n"
   ]
  },
  {
   "cell_type": "code",
   "execution_count": 36,
   "metadata": {},
   "outputs": [],
   "source": [
    "dfAllGrouped.to_csv(f'{storeLocation}{errorFileName}--Filtered--Universities--Grouped_Errors.csv', index=False)"
   ]
  },
  {
   "cell_type": "code",
   "execution_count": null,
   "metadata": {},
   "outputs": [],
   "source": []
  },
  {
   "cell_type": "code",
   "execution_count": null,
   "metadata": {},
   "outputs": [],
   "source": []
  }
 ],
 "metadata": {
  "kernelspec": {
   "display_name": "Python 3",
   "language": "python",
   "name": "python3"
  },
  "language_info": {
   "codemirror_mode": {
    "name": "ipython",
    "version": 3
   },
   "file_extension": ".py",
   "mimetype": "text/x-python",
   "name": "python",
   "nbconvert_exporter": "python",
   "pygments_lexer": "ipython3",
   "version": "3.9.6"
  }
 },
 "nbformat": 4,
 "nbformat_minor": 2
}
