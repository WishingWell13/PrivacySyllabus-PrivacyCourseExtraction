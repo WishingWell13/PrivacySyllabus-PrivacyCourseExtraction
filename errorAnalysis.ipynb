{
 "cells": [
  {
   "cell_type": "code",
   "execution_count": 1,
   "metadata": {},
   "outputs": [],
   "source": [
    "import pandas as pd\n",
    "import json\n",
    "import ast"
   ]
  },
  {
   "cell_type": "code",
   "execution_count": 2,
   "metadata": {},
   "outputs": [
    {
     "data": {
      "text/html": [
       "<div>\n",
       "<style scoped>\n",
       "    .dataframe tbody tr th:only-of-type {\n",
       "        vertical-align: middle;\n",
       "    }\n",
       "\n",
       "    .dataframe tbody tr th {\n",
       "        vertical-align: top;\n",
       "    }\n",
       "\n",
       "    .dataframe thead th {\n",
       "        text-align: right;\n",
       "    }\n",
       "</style>\n",
       "<table border=\"1\" class=\"dataframe\">\n",
       "  <thead>\n",
       "    <tr style=\"text-align: right;\">\n",
       "      <th></th>\n",
       "      <th>name</th>\n",
       "      <th>link</th>\n",
       "      <th>error</th>\n",
       "    </tr>\n",
       "  </thead>\n",
       "  <tbody>\n",
       "    <tr>\n",
       "      <th>0</th>\n",
       "      <td>Villanova University</td>\n",
       "      <td>https://www1.villanova.edu/#vu-main-content</td>\n",
       "      <td>HTTP Error 403: Forbidden</td>\n",
       "    </tr>\n",
       "    <tr>\n",
       "      <th>1</th>\n",
       "      <td>CUNY Graduate School and University Center</td>\n",
       "      <td>https://www.cloudflare.com/5xx-error-landing</td>\n",
       "      <td>HTTP Error 403: Forbidden</td>\n",
       "    </tr>\n",
       "    <tr>\n",
       "      <th>2</th>\n",
       "      <td>Villanova University</td>\n",
       "      <td>https://www1.villanova.edu/university.html</td>\n",
       "      <td>HTTP Error 403: Forbidden</td>\n",
       "    </tr>\n",
       "    <tr>\n",
       "      <th>3</th>\n",
       "      <td>North Greenville University</td>\n",
       "      <td>https://www.ngu.edu/opt-out-preferences/#cmplz...</td>\n",
       "      <td>HTTP Error 403: Forbidden</td>\n",
       "    </tr>\n",
       "    <tr>\n",
       "      <th>4</th>\n",
       "      <td>Villanova University</td>\n",
       "      <td>https://www1.villanova.edu/university/visit.html</td>\n",
       "      <td>HTTP Error 403: Forbidden</td>\n",
       "    </tr>\n",
       "  </tbody>\n",
       "</table>\n",
       "</div>"
      ],
      "text/plain": [
       "                                         name  \\\n",
       "0                        Villanova University   \n",
       "1  CUNY Graduate School and University Center   \n",
       "2                        Villanova University   \n",
       "3                 North Greenville University   \n",
       "4                        Villanova University   \n",
       "\n",
       "                                                link  \\\n",
       "0        https://www1.villanova.edu/#vu-main-content   \n",
       "1       https://www.cloudflare.com/5xx-error-landing   \n",
       "2         https://www1.villanova.edu/university.html   \n",
       "3  https://www.ngu.edu/opt-out-preferences/#cmplz...   \n",
       "4   https://www1.villanova.edu/university/visit.html   \n",
       "\n",
       "                       error  \n",
       "0  HTTP Error 403: Forbidden  \n",
       "1  HTTP Error 403: Forbidden  \n",
       "2  HTTP Error 403: Forbidden  \n",
       "3  HTTP Error 403: Forbidden  \n",
       "4  HTTP Error 403: Forbidden  "
      ]
     },
     "execution_count": 2,
     "metadata": {},
     "output_type": "execute_result"
    }
   ],
   "source": [
    "dfError = pd.read_csv('./errorLoggingOneHop/generalErrorUniversities.csv')\n",
    "\n",
    "dfError.head()\n"
   ]
  },
  {
   "cell_type": "code",
   "execution_count": 3,
   "metadata": {},
   "outputs": [
    {
     "data": {
      "text/plain": [
       "HTTP Error 403: Forbidden                                                                                                                 8070\n",
       "HTTP Error 404: Not Found                                                                                                                 1185\n",
       "HTTP Error 400: Bad Request                                                                                                                388\n",
       "[SSL: CERTIFICATE_VERIFY_FAILED] certificate verify failed (_ssl.c:997)                                                                    370\n",
       "'utf-8' codec can't decode byte 0xe2 in position 10: invalid continuation byte                                                             345\n",
       "'utf-8' codec can't decode byte 0xb5 in position 11: invalid start byte                                                                    225\n",
       "HTTP Error 599:                                                                                                                            121\n",
       "HTTP Error 999: Request denied                                                                                                             104\n",
       "[Errno 104] Connection reset by peer                                                                                                        59\n",
       "'utf-8' codec can't decode byte 0xaa in position 10: invalid start byte                                                                     59\n",
       "[Errno -2] Name or service not known                                                                                                        50\n",
       "'utf-8' codec can't decode byte 0xb0 in position 1: invalid start byte                                                                      35\n",
       "'utf-8' codec can't decode byte 0xc4 in position 10: invalid continuation byte                                                              26\n",
       "'utf-8' codec can't decode byte 0x8b in position 1: invalid start byte                                                                      24\n",
       "'utf-8' codec can't decode bytes in position 6-7: invalid continuation byte                                                                 20\n",
       "'utf-8' codec can't decode byte 0x97 in position 70147: invalid start byte                                                                  17\n",
       "'utf-8' codec can't decode byte 0xff in position 0: invalid start byte                                                                      15\n",
       "'utf-8' codec can't decode byte 0xe2 in position 11: invalid continuation byte                                                              14\n",
       "HTTP Error 503: Service Unavailable                                                                                                         12\n",
       "HTTP Error 302: The HTTP server returned a redirect error that would lead to an infinite loop.\\nThe last 30x error message was:\\nFound      11\n",
       "Name: error, dtype: int64"
      ]
     },
     "execution_count": 3,
     "metadata": {},
     "output_type": "execute_result"
    }
   ],
   "source": [
    "dfError.error.value_counts()[0:20]"
   ]
  },
  {
   "cell_type": "code",
   "execution_count": null,
   "metadata": {},
   "outputs": [
    {
     "data": {
      "text/plain": [
       "HTTP Error 403: Forbidden                                                                                                                                                                       38870\n",
       "HTTP Error 404: Not Found                                                                                                                                                                        6325\n",
       "[SSL: CERTIFICATE_VERIFY_FAILED] certificate verify failed (_ssl.c:997)                                                                                                                          3555\n",
       "HTTP Error 400: Bad Request                                                                                                                                                                      2053\n",
       "HTTP Error 405: Not Allowed                                                                                                                                                                      2029\n",
       "                                                                                                                                                                                                ...  \n",
       "unknown url type: '/major-map/courseInfo?tooltipUrl=/programs/tooltipdynamic/course2/EEE_304_&catalogUrl=https://catalog.apps.asu.edu/catalog/courses/courselist?subject=EEE&catalogNbr=304'        1\n",
       "unknown url type: '/major-map/courseInfo?tooltipUrl=/programs/tooltipdynamic/course2/EEE_333_&catalogUrl=https://catalog.apps.asu.edu/catalog/courses/courselist?subject=EEE&catalogNbr=333'        1\n",
       "unknown url type: '/major-map/courseInfo?tooltipUrl=/programs/tooltipdynamic/course2/EEE_335_&catalogUrl=https://catalog.apps.asu.edu/catalog/courses/courselist?subject=EEE&catalogNbr=335'        1\n",
       "unknown url type: '/major-map/courseInfo?tooltipUrl=/programs/tooltipdynamic/course2/EEE_350_&catalogUrl=https://catalog.apps.asu.edu/catalog/courses/courselist?subject=EEE&catalogNbr=350'        1\n",
       "URL can't contain control characters. '/resources/catalogs/Central Arizona College Catalog 2019-2020.pdf' (found at least ' ')                                                                      1\n",
       "Name: error, Length: 1000, dtype: int64"
      ]
     },
     "execution_count": 34,
     "metadata": {},
     "output_type": "execute_result"
    }
   ],
   "source": [
    "dfError.error.value_counts()"
   ]
  },
  {
   "cell_type": "code",
   "execution_count": null,
   "metadata": {},
   "outputs": [],
   "source": []
  },
  {
   "cell_type": "code",
   "execution_count": null,
   "metadata": {},
   "outputs": [],
   "source": []
  }
 ],
 "metadata": {
  "kernelspec": {
   "display_name": "ERSP",
   "language": "python",
   "name": "python3"
  },
  "language_info": {
   "codemirror_mode": {
    "name": "ipython",
    "version": 3
   },
   "file_extension": ".py",
   "mimetype": "text/x-python",
   "name": "python",
   "nbconvert_exporter": "python",
   "pygments_lexer": "ipython3",
   "version": "3.9.6"
  }
 },
 "nbformat": 4,
 "nbformat_minor": 2
}
