{
 "cells": [
  {
   "cell_type": "code",
   "execution_count": 25,
   "metadata": {},
   "outputs": [],
   "source": [
    "import pandas as pd\n",
    "import json\n",
    "import ast"
   ]
  },
  {
   "cell_type": "code",
   "execution_count": 29,
   "metadata": {},
   "outputs": [
    {
     "data": {
      "text/html": [
       "<div>\n",
       "<style scoped>\n",
       "    .dataframe tbody tr th:only-of-type {\n",
       "        vertical-align: middle;\n",
       "    }\n",
       "\n",
       "    .dataframe tbody tr th {\n",
       "        vertical-align: top;\n",
       "    }\n",
       "\n",
       "    .dataframe thead th {\n",
       "        text-align: right;\n",
       "    }\n",
       "</style>\n",
       "<table border=\"1\" class=\"dataframe\">\n",
       "  <thead>\n",
       "    <tr style=\"text-align: right;\">\n",
       "      <th></th>\n",
       "      <th>name</th>\n",
       "      <th>link</th>\n",
       "      <th>error</th>\n",
       "    </tr>\n",
       "  </thead>\n",
       "  <tbody>\n",
       "    <tr>\n",
       "      <th>0</th>\n",
       "      <td>Santa Fe College</td>\n",
       "      <td>https://www.sfcollege.edu/javascript:void(0);</td>\n",
       "      <td>HTTP Error 404: Not Found</td>\n",
       "    </tr>\n",
       "    <tr>\n",
       "      <th>1</th>\n",
       "      <td>Richard Bland College</td>\n",
       "      <td>http://housing.rbc.edu/login</td>\n",
       "      <td>[Errno 104] Connection reset by peer</td>\n",
       "    </tr>\n",
       "    <tr>\n",
       "      <th>2</th>\n",
       "      <td>Lyon College</td>\n",
       "      <td>https://campaign.lyon.edu/</td>\n",
       "      <td>[SSL: CERTIFICATE_VERIFY_FAILED] certificate v...</td>\n",
       "    </tr>\n",
       "    <tr>\n",
       "      <th>3</th>\n",
       "      <td>Villanova University</td>\n",
       "      <td>https://www1.villanova.edu/#vu-main-content</td>\n",
       "      <td>HTTP Error 403: Forbidden</td>\n",
       "    </tr>\n",
       "    <tr>\n",
       "      <th>4</th>\n",
       "      <td>Villanova University</td>\n",
       "      <td>https://www1.villanova.edu/university.html</td>\n",
       "      <td>HTTP Error 403: Forbidden</td>\n",
       "    </tr>\n",
       "  </tbody>\n",
       "</table>\n",
       "</div>"
      ],
      "text/plain": [
       "                    name                                           link  \\\n",
       "0       Santa Fe College  https://www.sfcollege.edu/javascript:void(0);   \n",
       "1  Richard Bland College                   http://housing.rbc.edu/login   \n",
       "2           Lyon College                    https://campaign.lyon.edu/    \n",
       "3   Villanova University    https://www1.villanova.edu/#vu-main-content   \n",
       "4   Villanova University     https://www1.villanova.edu/university.html   \n",
       "\n",
       "                                               error  \n",
       "0                          HTTP Error 404: Not Found  \n",
       "1               [Errno 104] Connection reset by peer  \n",
       "2  [SSL: CERTIFICATE_VERIFY_FAILED] certificate v...  \n",
       "3                          HTTP Error 403: Forbidden  \n",
       "4                          HTTP Error 403: Forbidden  "
      ]
     },
     "execution_count": 29,
     "metadata": {},
     "output_type": "execute_result"
    }
   ],
   "source": [
    "dfError = pd.read_csv('./errorLoggingOneHop/generalErrorUniversities.csv')\n",
    "\n",
    "dfError.head()\n"
   ]
  },
  {
   "cell_type": "code",
   "execution_count": 33,
   "metadata": {},
   "outputs": [
    {
     "data": {
      "text/plain": [
       "HTTP Error 403: Forbidden                                                          38870\n",
       "HTTP Error 404: Not Found                                                           6325\n",
       "[SSL: CERTIFICATE_VERIFY_FAILED] certificate verify failed (_ssl.c:997)             3555\n",
       "HTTP Error 400: Bad Request                                                         2053\n",
       "HTTP Error 405: Not Allowed                                                         2029\n",
       "'utf-8' codec can't decode byte 0xe2 in position 10: invalid continuation byte      1458\n",
       "HTTP Error 429: Too Many Requests                                                   1018\n",
       "HTTP Error 406: Not Acceptable                                                       851\n",
       "HTTP Error 999: Request denied                                                       645\n",
       "'utf-8' codec can't decode byte 0xb5 in position 11: invalid start byte              641\n",
       "[Errno -2] Name or service not known                                                 432\n",
       "Remote end closed connection without response                                        377\n",
       "[Errno 104] Connection reset by peer                                                 295\n",
       "[Errno -3] Temporary failure in name resolution                                      290\n",
       "[SSL: SSLV3_ALERT_HANDSHAKE_FAILURE] sslv3 alert handshake failure (_ssl.c:997)      182\n",
       "'utf-8' codec can't decode byte 0xaa in position 10: invalid start byte              182\n",
       "[Errno 110] Connection timed out                                                     169\n",
       "HTTP Error 500: Internal Server Error                                                158\n",
       "HTTP Error 403: ModSecurity Action                                                   154\n",
       "HTTP Error 599:                                                                      129\n",
       "Name: error, dtype: int64"
      ]
     },
     "execution_count": 33,
     "metadata": {},
     "output_type": "execute_result"
    }
   ],
   "source": [
    "dfError.error.value_counts()[0:20]"
   ]
  },
  {
   "cell_type": "code",
   "execution_count": null,
   "metadata": {},
   "outputs": [],
   "source": [
    "dfError.error.value_counts()"
   ]
  }
 ],
 "metadata": {
  "kernelspec": {
   "display_name": "ERSP",
   "language": "python",
   "name": "python3"
  },
  "language_info": {
   "codemirror_mode": {
    "name": "ipython",
    "version": 3
   },
   "file_extension": ".py",
   "mimetype": "text/x-python",
   "name": "python",
   "nbconvert_exporter": "python",
   "pygments_lexer": "ipython3",
   "version": "3.9.6"
  }
 },
 "nbformat": 4,
 "nbformat_minor": 2
}
